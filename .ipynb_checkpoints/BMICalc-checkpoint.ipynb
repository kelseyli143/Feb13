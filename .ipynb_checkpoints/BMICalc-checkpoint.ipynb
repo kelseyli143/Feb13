{
 "cells": [
  {
   "cell_type": "code",
   "execution_count": null,
   "metadata": {},
   "outputs": [],
   "source": []
  },
  {
   "cell_type": "code",
   "execution_count": 17,
   "metadata": {},
   "outputs": [
    {
     "name": "stdout",
     "output_type": "stream",
     "text": [
      "Would you like to use imperial or metric units? Enter either imperial or metric: metric\n",
      "Enter height in meters: 2.7\n",
      "Enter weight in kilograms: 60\n",
      "The corresponding BMI is 8.23045267489712.\n",
      "This BME is categorized as underweight.\n"
     ]
    }
   ],
   "source": [
    "# Kelsey Li\n",
    "# BME547\n",
    "# BMI Calculator\n",
    "\n",
    "\n",
    "# main function that calls all other functions\n",
    "def main():\n",
    "    units = BMI_units()\n",
    "    \n",
    "    BMI = BMI_calc(units)\n",
    "    \n",
    "    BMI_status(BMI)\n",
    "    \n",
    "# first allow user to choose their unit system\n",
    "def BMI_units():\n",
    "    units = input(\"Would you like to use imperial or metric units? Enter either imperial or metric: \")\n",
    "    return units #saves units as the results of this function\n",
    "\n",
    "def BMI_calc(units):\n",
    "    if units == \"imperial\":\n",
    "        height_str = input(\"Enter height in inches: \")\n",
    "        weight_str = input(\"Enter weight in pounds: \")\n",
    "        \n",
    "        # float converts the string inputs to floats for calculation\n",
    "        height = float(height_str)\n",
    "        weight = float(weight_str)\n",
    "        \n",
    "        #BMI calculation with conversion factor for imperial units\n",
    "        BMI = (weight/height**2)*703\n",
    "     \n",
    "    if units == \"metric\":\n",
    "        height_str = input(\"Enter height in meters: \")\n",
    "        weight_str = input(\"Enter weight in kilograms: \")\n",
    "        \n",
    "        # float converts the string inputs to floats for calculation\n",
    "        height = float(height_str)\n",
    "        weight = float(weight_str)\n",
    "        \n",
    "        # BMI calculation for metric units\n",
    "        BMI = weight/height**2\n",
    "    \n",
    "    print(\"The corresponding BMI is {}.\".format(BMI))  \n",
    "   \n",
    "    # saves BMI as output of BMI calculation\n",
    "    return BMI\n",
    "\n",
    "#if statement depending on BMI value to determine BMI status\n",
    "def BMI_status(BMI):\n",
    "    if BMI<18.5:\n",
    "        status = 'underweight'\n",
    "    elif BMI>=18.5 and BMI<=24.9:\n",
    "        status = 'normal weight'\n",
    "    elif BMI>=25 and BMI<=29.9:\n",
    "        status = 'overweight'\n",
    "    else:\n",
    "        status = 'obese'\n",
    "    print(\"This BME is categorized as {}.\".format(status))\n",
    "    \n",
    "if __name__ == \"__main__\": \n",
    "# double underscore means it's an internal Python variable\n",
    "    main()"
   ]
  },
  {
   "cell_type": "code",
   "execution_count": 12,
   "metadata": {
    "scrolled": true
   },
   "outputs": [
    {
     "name": "stdout",
     "output_type": "stream",
     "text": [
      "Would you like to use imperial or metric units? Enter either imperial or metric: imperial\n",
      "Enter height in inches: 62\n",
      "Enter weight in pounds: 130\n",
      "This BME is categorized as normal weight.\n"
     ]
    }
   ],
   "source": []
  },
  {
   "cell_type": "code",
   "execution_count": null,
   "metadata": {},
   "outputs": [],
   "source": []
  },
  {
   "cell_type": "code",
   "execution_count": null,
   "metadata": {},
   "outputs": [],
   "source": []
  },
  {
   "cell_type": "code",
   "execution_count": null,
   "metadata": {},
   "outputs": [],
   "source": []
  },
  {
   "cell_type": "code",
   "execution_count": null,
   "metadata": {},
   "outputs": [],
   "source": []
  },
  {
   "cell_type": "code",
   "execution_count": null,
   "metadata": {},
   "outputs": [],
   "source": []
  },
  {
   "cell_type": "code",
   "execution_count": null,
   "metadata": {},
   "outputs": [],
   "source": []
  }
 ],
 "metadata": {
  "kernelspec": {
   "display_name": "Python 3",
   "language": "python",
   "name": "python3"
  },
  "language_info": {
   "codemirror_mode": {
    "name": "ipython",
    "version": 3
   },
   "file_extension": ".py",
   "mimetype": "text/x-python",
   "name": "python",
   "nbconvert_exporter": "python",
   "pygments_lexer": "ipython3",
   "version": "3.7.2"
  }
 },
 "nbformat": 4,
 "nbformat_minor": 2
}
