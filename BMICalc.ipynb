{
 "cells": [
  {
   "cell_type": "code",
   "execution_count": null,
   "metadata": {},
   "outputs": [],
   "source": [
    "#Receives input from the user from the console\n",
    "\n",
    "#Console input can be received with code such as follows:\n",
    "#x = input(\"Enter number: \")\n",
    "#Note that x will be a string and needs to be converted to a float.\n",
    "#Weight input must be in pounds\n",
    "#Height input must be in inches\n",
    "# BMI\tWeight Status\n",
    "# Below 18.5\tUnderweight\n",
    "# 18.5 – 24.9\tNormal\n",
    "# 25.0 – 29.9\tOverweight\n",
    "# 30.0 and Above\tObese\n",
    "# BMI = (Weight in Pounds / (Height in inches) x (Height in inches)) x 703\n",
    "#Program must output to the console the calculated BMI.\n",
    "\n",
    "#Console output can be achieved by code such as: print(\"The number entered was {}\".format(x))\n",
    "#Program must output whether the calculated BMI represents underweight, normal weight, overweight, or obese.\n",
    "\n",
    "#Extra credit: give the user the option to enter weight in kilograms and height in meters."
   ]
  },
  {
   "cell_type": "code",
   "execution_count": 15,
   "metadata": {},
   "outputs": [
    {
     "name": "stdout",
     "output_type": "stream",
     "text": [
      "Enter height:69\n",
      "Enter weight:180\n",
      "Variable     Type     Data/Info\n",
      "-------------------------------\n",
      "BMI          float    32.10302836083961\n",
      "height       float    69.0\n",
      "height_str   str      69\n",
      "weight       float    180.0\n",
      "weight_str   str      180\n"
     ]
    }
   ],
   "source": [
    "height_str = input(\"Enter height:\")\n",
    "weight_str = input(\"Enter weight:\")\n",
    "height = float(height_str)\n",
    "weight = float(weight_str)\n",
    "%whos"
   ]
  },
  {
   "cell_type": "code",
   "execution_count": 19,
   "metadata": {},
   "outputs": [
    {
     "name": "stdout",
     "output_type": "stream",
     "text": [
      "The corresponding BMI is 26.578449905482042\n"
     ]
    }
   ],
   "source": [
    "BMI = (weight/height**2)*703\n",
    "print(\"The corresponding BMI is\",BMI)"
   ]
  },
  {
   "cell_type": "code",
   "execution_count": null,
   "metadata": {},
   "outputs": [],
   "source": []
  },
  {
   "cell_type": "code",
   "execution_count": null,
   "metadata": {},
   "outputs": [],
   "source": []
  }
 ],
 "metadata": {
  "kernelspec": {
   "display_name": "Python 3",
   "language": "python",
   "name": "python3"
  },
  "language_info": {
   "codemirror_mode": {
    "name": "ipython",
    "version": 3
   },
   "file_extension": ".py",
   "mimetype": "text/x-python",
   "name": "python",
   "nbconvert_exporter": "python",
   "pygments_lexer": "ipython3",
   "version": "3.7.2"
  }
 },
 "nbformat": 4,
 "nbformat_minor": 2
}
